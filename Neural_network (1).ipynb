{
  "nbformat": 4,
  "nbformat_minor": 0,
  "metadata": {
    "colab": {
      "provenance": []
    },
    "kernelspec": {
      "name": "python3",
      "display_name": "Python 3"
    },
    "language_info": {
      "name": "python"
    }
  },
  "cells": [
    {
      "cell_type": "code",
      "execution_count": 1,
      "metadata": {
        "id": "Ewb9CHdxWnSP"
      },
      "outputs": [],
      "source": [
        "import numpy as np\n",
        "import pandas as pd\n",
        "from sklearn.model_selection import train_test_split\n",
        "from sklearn.metrics import accuracy_score"
      ]
    },
    {
      "cell_type": "code",
      "source": [
        "df = pd.read_csv(\"Bank_Personal_Loan_Modelling.csv\")"
      ],
      "metadata": {
        "id": "QTreZSSfWzR7"
      },
      "execution_count": 4,
      "outputs": []
    },
    {
      "cell_type": "code",
      "source": [
        "df = df.drop([\"ID\", \"ZIP Code\"], axis=1)\n",
        "df = pd.get_dummies(df, columns=[\"Family\", \"Education\", \"Securities Account\", \"CD Account\", \"Online\", \"CreditCard\"])"
      ],
      "metadata": {
        "id": "AWjRtDX5Wzkg"
      },
      "execution_count": 5,
      "outputs": []
    },
    {
      "cell_type": "code",
      "source": [
        "X = df.drop([\"Personal Loan\"], axis=1).values\n",
        "Y = df[\"Personal Loan\"].values.reshape(-1, 1)\n"
      ],
      "metadata": {
        "id": "aMQyzvGlWzoU"
      },
      "execution_count": 6,
      "outputs": []
    },
    {
      "cell_type": "code",
      "source": [
        "X = (X - X.mean()) / X.std()"
      ],
      "metadata": {
        "id": "sJDzFj4bWzw2"
      },
      "execution_count": 7,
      "outputs": []
    },
    {
      "cell_type": "code",
      "source": [
        "class NeuralNetwork:\n",
        "\n",
        "    def __init__(self, input_dim, hidden_dim, output_dim, learning_rate=0.01, num_iterations=10000):\n",
        "        self.input_dim = input_dim\n",
        "        self.hidden_dim = hidden_dim\n",
        "        self.output_dim = output_dim\n",
        "        self.learning_rate = learning_rate\n",
        "        self.num_iterations = num_iterations\n",
        "        self.params = {}\n",
        "        self.grads = {}\n",
        "        self.losses = []\n",
        "\n",
        "    def initialize_parameters(self):\n",
        "        np.random.seed(0)\n",
        "        self.params['W1'] = np.random.randn(self.input_dim, self.hidden_dim) / np.sqrt(self.input_dim)\n",
        "        self.params['b1'] = np.zeros((1, self.hidden_dim))\n",
        "        self.params['W2'] = np.random.randn(self.hidden_dim, self.output_dim) / np.sqrt(self.hidden_dim)\n",
        "        self.params['b2'] = np.zeros((1, self.output_dim))\n",
        "\n",
        "    def relu(self, Z):\n",
        "        return np.maximum(0, Z)\n",
        "\n",
        "    def sigmoid(self, Z):\n",
        "        return 1 / (1 + np.exp(-Z))\n",
        "\n",
        "    def softmax(self, Z):\n",
        "        exp_Z = np.exp(Z - np.max(Z, axis=1, keepdims=True))\n",
        "        return exp_Z / np.sum(exp_Z, axis=1, keepdims=True)\n",
        "\n",
        "    def forward_propagation(self, X):\n",
        "        Z1 = np.dot(X, self.params['W1']) + self.params['b1']\n",
        "        A1 = self.relu(Z1)\n",
        "        Z2 = np.dot(A1, self.params['W2']) + self.params['b2']\n",
        "        A2 = self.sigmoid(Z2)\n",
        "        cache = (Z1, A1, Z2, A2)\n",
        "        return A2, cache\n",
        "\n",
        "    def compute_loss(self, Y, Y_pred):\n",
        "        m = Y.shape[0]\n",
        "        loss = (-1/m) * np.sum(Y * np.log(Y_pred) + (1-Y) * np.log(1-Y_pred))\n",
        "        return loss\n",
        "\n",
        "    def backward_propagation(self, X, Y, cache):\n",
        "        m = X.shape[0]\n",
        "        Z1, A1, Z2, A2 = cache\n",
        "        dZ2 = A2 - Y\n",
        "        dW2 = (1/m) * np.dot(A1.T, dZ2)\n",
        "        db2 = (1/m) * np.sum(dZ2, axis=0, keepdims=True)\n",
        "        dA1 = np.dot(dZ2, self.params['W2'].T)\n",
        "        dZ1 = dA1 * (Z1 > 0)\n",
        "        dW1 = (1/m) * np.dot(X.T, dZ1)\n",
        "        db1 = (1/m) * np.sum(dZ1, axis=0, keepdims=True)\n",
        "        self.grads['dW1'] = dW1\n",
        "        self.grads['db1'] = db1\n",
        "        self.grads['dW2'] = dW2\n",
        "        self.grads['db2'] = db2\n",
        "\n",
        "    def update_parameters(self):\n",
        "        self.params['W1'] -= self.learning_rate * self.grads['dW1']\n",
        "        self.params['b1'] -= self.learning_rate * self.grads['db1']\n",
        "        self.params['W2'] -= self.learning_rate * self.grads['dW2']\n",
        "        self.params['b2'] -= self.learning_rate * self.grads['db2']\n",
        "\n",
        "    def fit(self, X, Y):\n",
        "        self.initialize_parameters()\n",
        "        for i in range(self.num_iterations):\n",
        "            Y_pred, cache = self.forward_propagation(X)\n",
        "            loss = self.compute_loss(Y, Y_pred)\n",
        "            self.losses.append(loss)\n",
        "            self.backward_propagation(X, Y, cache)\n",
        "            self.update_parameters()\n",
        "            if i % 100 == 0:\n",
        "                print(f\"Iteration {i}: Loss={loss}\")\n",
        "\n",
        "    def predict(self, X):\n",
        "        Y_pred, _ = self.forward_propagation(X)\n",
        "        return np.round(Y_pred)\n",
        "\n",
        "    def evaluate(self, X_test, Y_test):\n",
        "        Y_pred = self.predict(X_test)\n",
        "        acc = accuracy_score(Y_test, Y_pred)\n",
        "        print(f\"Accuracy: {acc}\")"
      ],
      "metadata": {
        "id": "U1EKotXjW85j"
      },
      "execution_count": 12,
      "outputs": []
    },
    {
      "cell_type": "code",
      "source": [
        "X_train, X_test, Y_train, Y_test = train_test_split(X, Y, test_size=0.2, random_state=42)"
      ],
      "metadata": {
        "id": "8axUk0nxXHd_"
      },
      "execution_count": 13,
      "outputs": []
    },
    {
      "cell_type": "code",
      "source": [
        "nn = NeuralNetwork(input_dim=X.shape[1], hidden_dim=10, output_dim=1, learning_rate=0.01, num_iterations=1000)\n",
        "nn.fit(X_train, Y_train)"
      ],
      "metadata": {
        "colab": {
          "base_uri": "https://localhost:8080/"
        },
        "id": "xyH6QJc7W8_b",
        "outputId": "f961aec5-ea60-4e1b-976c-8fdb26349de2"
      },
      "execution_count": 14,
      "outputs": [
        {
          "output_type": "stream",
          "name": "stdout",
          "text": [
            "Iteration 0: Loss=1.0217270474510438\n",
            "Iteration 100: Loss=0.4720108507012974\n",
            "Iteration 200: Loss=0.4025611626210716\n",
            "Iteration 300: Loss=0.375771265630537\n",
            "Iteration 400: Loss=0.3573617948889498\n",
            "Iteration 500: Loss=0.3413827164802609\n",
            "Iteration 600: Loss=0.32620520341337605\n",
            "Iteration 700: Loss=0.3112665186900574\n",
            "Iteration 800: Loss=0.29640648825658805\n",
            "Iteration 900: Loss=0.28213585609340974\n"
          ]
        }
      ]
    },
    {
      "cell_type": "code",
      "source": [
        "nn.evaluate(X_test, Y_test)"
      ],
      "metadata": {
        "colab": {
          "base_uri": "https://localhost:8080/"
        },
        "id": "SFklsU6gXDt2",
        "outputId": "5d807954-ab07-420a-890d-1b423d431a94"
      },
      "execution_count": 15,
      "outputs": [
        {
          "output_type": "stream",
          "name": "stdout",
          "text": [
            "Accuracy: 0.895\n"
          ]
        }
      ]
    }
  ]
}